{
  "nbformat": 4,
  "nbformat_minor": 0,
  "metadata": {
    "colab": {
      "name": "VaccinationByCountry2.ipynb",
      "provenance": [],
      "collapsed_sections": [],
      "authorship_tag": "ABX9TyM6DYIJYfXfDTOLunjp0hIS",
      "include_colab_link": true
    },
    "kernelspec": {
      "name": "python3",
      "display_name": "Python 3"
    },
    "language_info": {
      "name": "python"
    }
  },
  "cells": [
    {
      "cell_type": "markdown",
      "metadata": {
        "id": "view-in-github",
        "colab_type": "text"
      },
      "source": [
        "<a href=\"https://colab.research.google.com/github/dgeorgiev436/Jupyter-Notebook-Python-Vaccinations-Breakdown/blob/main/VaccinationByCountry2.ipynb\" target=\"_parent\"><img src=\"https://colab.research.google.com/assets/colab-badge.svg\" alt=\"Open In Colab\"/></a>"
      ]
    },
    {
      "cell_type": "markdown",
      "source": [
        "# **Proportion of population fully vaccinated between the 5th of March and 15th of March 2021 for UK, Bulgaria, Romania, Brazil and UAE**"
      ],
      "metadata": {
        "id": "8H947Cug5Ve4"
      }
    },
    {
      "cell_type": "markdown",
      "source": [
        "## Importing the libraries that are going to be used for the task"
      ],
      "metadata": {
        "id": "V6jDu4ND5mMY"
      }
    },
    {
      "cell_type": "code",
      "execution_count": null,
      "metadata": {
        "id": "TSLFUZOh47ye"
      },
      "outputs": [],
      "source": [
        "# Import pandas library which will be used for data structures and operations\n",
        "import pandas as pd\n",
        "from datetime import datetime\n",
        "# Import matplotlib.pyplot and seaborn libraries which will be used for data visualisation\n",
        "import seaborn as sns\n",
        "from matplotlib import pyplot as plt\n",
        "import numpy as np"
      ]
    },
    {
      "cell_type": "markdown",
      "source": [
        "## In the below code snippet I load the data from the excel document. Then I format the \"date\" column to a custom format where the months are represented as a single digit (1,2,3 instead of 01.02.03). Next, I created a new xlsx document with all the updated \"date\" column formatting. Lastly, the data is added to a dataframe."
      ],
      "metadata": {
        "id": "gpYd-Yn254GY"
      }
    },
    {
      "cell_type": "code",
      "source": [
        "# Read the whole worksheet\n",
        "\n",
        "# Read the document\n",
        "data = pd.read_excel(\"VaccinationByCountryformatedData.xlsx\")\n",
        "\n",
        "# Convert the date format to a custom date format\n",
        "# I noticed that when the month is formated with a 0 in front ( for example 01,02,03), it breaks my filtering and gives me a wrong results\n",
        "data[\"date\"] = pd.to_datetime(data[\"date\"]).dt.strftime(\"%Y/%-m/%d\")\n",
        "\n",
        "# Creating new document with the new date column formatting ( the code had to be executed only once, therefore I have commented it out)\n",
        "# data.to_excel(\"VaccinationByCountryformatedData.xlsx\")\n",
        "\n",
        "# Add data to a dataframe\n",
        "df = pd.DataFrame(data)"
      ],
      "metadata": {
        "id": "B_zf_PcK54d6"
      },
      "execution_count": null,
      "outputs": []
    },
    {
      "cell_type": "markdown",
      "source": [
        "## Proportion of population of UK fully vaccinated for period between 5th of March and 15th of March 2021."
      ],
      "metadata": {
        "id": "xMko4Vmv7uBJ"
      }
    },
    {
      "cell_type": "code",
      "source": [
        "# Applying data filtering in order to get total people vaccinated in UK for the period between 5th of March and 15th of March 2021\n",
        "ukFilter = (data[\"country\"] == \"United Kingdom\") & (data[\"date\"] >= \"2021/3/05\") & (data[\"date\"] <= \"2021/3/15\")\n",
        "\n",
        "# Apply the filtered data to the data frame also known as pandas dataframe boolean filtering\n",
        "ukData = df.loc[ukFilter]\n",
        "\n",
        "# Adding total fully vaccinated people for the period between the 5th of March and 15th of March 2021\n",
        "# Formatting the total number\n",
        "peopleFullyVaccinatedUK = (ukData[\"people_fully_vaccinated\"].sum())\n",
        "print(\"Fully vacinated people in UK between 5th of March and 15th of March: \", format(peopleFullyVaccinatedUK, \",.0f\"))"
      ],
      "metadata": {
        "colab": {
          "base_uri": "https://localhost:8080/"
        },
        "id": "nUHDX0HZ7k-y",
        "outputId": "c9e020d4-76c8-4004-e481-bb3c64060cb1"
      },
      "execution_count": null,
      "outputs": [
        {
          "output_type": "stream",
          "name": "stdout",
          "text": [
            "Fully vacinated people in UK between 5th of March and 15th of March:  8,588,262\n"
          ]
        }
      ]
    },
    {
      "cell_type": "markdown",
      "source": [
        "## Proportion of population of Romania fully vaccinated for period between 5th of March and 15th of March 2021."
      ],
      "metadata": {
        "id": "muDJoqOrA40x"
      }
    },
    {
      "cell_type": "code",
      "source": [
        "# Applying data filtering in order to get total people vaccinated in Romania for the period between 5th of March and 15th of March 2021\n",
        "romaniaFilter = (data[\"country\"] == \"Romania\") & (data[\"date\"] >= \"2021/3/05\") & (data[\"date\"] <= \"2021/3/15\")\n",
        "\n",
        "# Apply the filtered data to the data frame also known as pandas dataframe boolean filtering\n",
        "romaniaData = df.loc[romaniaFilter]\n",
        "\n",
        "# Adding total fully vaccinated people for the period between the 5th of March and 15th of March 2021\n",
        "# Formatting the total number\n",
        "peopleFullyVaccinatedRomania = (romaniaData[\"people_fully_vaccinated\"].sum())\n",
        "print(\"Fully vacinated people in Romania between 5th of March and 15th of March: \", format(peopleFullyVaccinatedRomania, \",.0f\"))"
      ],
      "metadata": {
        "colab": {
          "base_uri": "https://localhost:8080/"
        },
        "id": "5lckc8SZA81A",
        "outputId": "fdd635c2-796e-4b34-d5a0-8a480c857fdc"
      },
      "execution_count": null,
      "outputs": [
        {
          "output_type": "stream",
          "name": "stdout",
          "text": [
            "Fully vacinated people in Romania between 5th of March and 15th of March:  4,616,324\n"
          ]
        }
      ]
    },
    {
      "cell_type": "markdown",
      "source": [
        "## Proportion of population of Bulgaria fully vaccinated for period between 5th of March and 15th of March 2021."
      ],
      "metadata": {
        "id": "duiSI994Bgvo"
      }
    },
    {
      "cell_type": "code",
      "source": [
        "# Applying data filtering in order to get total people vaccinated in Bulgaria for the period between 5th of March and 15th of March 2021\n",
        "bulgariaFilter = (data[\"country\"] == \"Bulgaria\") & (data[\"date\"] >= \"2021/3/05\") & (data[\"date\"] <= \"2021/3/15\")\n",
        "\n",
        "# Apply the filtered data to the data frame also known as pandas dataframe boolean filtering\n",
        "bulgariaData = df.loc[bulgariaFilter]\n",
        "\n",
        "# Adding total fully vaccinated people for the period between the 5th of March and 15th of March 2021\n",
        "# Formatting the total number\n",
        "peopleFullyVaccinatedBulgaria = (bulgariaData[\"people_fully_vaccinated\"].sum())\n",
        "print(\"Fully vacinated people in Bulgaria between 5th of March and 15th of March: \", format(peopleFullyVaccinatedBulgaria, \",.0f\"))"
      ],
      "metadata": {
        "colab": {
          "base_uri": "https://localhost:8080/"
        },
        "id": "H50tREocBkee",
        "outputId": "e5135fbc-8278-4d82-839e-8349fcb24eba"
      },
      "execution_count": null,
      "outputs": [
        {
          "output_type": "stream",
          "name": "stdout",
          "text": [
            "Fully vacinated people in Bulgaria between 5th of March and 15th of March:  416,272\n"
          ]
        }
      ]
    },
    {
      "cell_type": "markdown",
      "source": [
        "## Proportion of population of Brazil fully vaccinated for period between 5th of March and 15th of March 2021."
      ],
      "metadata": {
        "id": "aE5Smub2B4Yx"
      }
    },
    {
      "cell_type": "code",
      "source": [
        "# Applying data filtering in order to get total people vaccinated in Brazil for the period between 5th of March and 15th of March 2021\n",
        "brazilFilter = (data[\"country\"] == \"Brazil\") & (data[\"date\"] >= \"2021/3/05\") & (data[\"date\"] <= \"2021/3/15\")\n",
        "\n",
        "# Apply the filtered data to the data frame also known as pandas dataframe boolean filtering\n",
        "brazilaData = df.loc[brazilFilter]\n",
        "\n",
        "# Adding total fully vaccinated people for the period between the 5th of March and 15th of March 2021\n",
        "# Formatting the total number\n",
        "peopleFullyVaccinatedBrazil = (brazilaData[\"people_fully_vaccinated\"].sum())\n",
        "print(\"Fully vacinated people in Brazil between 5th of March and 15th of March: \", format(peopleFullyVaccinatedBrazil, \",.0f\"))"
      ],
      "metadata": {
        "colab": {
          "base_uri": "https://localhost:8080/"
        },
        "id": "iKI_MS6jB8tO",
        "outputId": "ec788a63-3b44-4a5f-b620-5fe1843dbd40"
      },
      "execution_count": null,
      "outputs": [
        {
          "output_type": "stream",
          "name": "stdout",
          "text": [
            "Fully vacinated people in Brazil between 5th of March and 15th of March:  10,416,749\n"
          ]
        }
      ]
    },
    {
      "cell_type": "markdown",
      "source": [
        "## Proportion of population of United Arab Emirates fully vaccinated for period between 5th of March and 15th of March 2021."
      ],
      "metadata": {
        "id": "STMG8uRrCWGO"
      }
    },
    {
      "cell_type": "code",
      "source": [
        "# Applying data filtering in order to get total people vaccinated in United Arab Emirates for the period between 5th of March and 15th of March 2021\n",
        "uaeFilter = (data[\"country\"] == \"United Arab Emirates\") & (data[\"date\"] >= \"2021/3/05\") & (data[\"date\"] <= \"2021/3/15\")\n",
        "\n",
        "# Apply the filtered data to the data frame also known as pandas dataframe boolean filtering\n",
        "uaeData = df.loc[uaeFilter]\n",
        "\n",
        "# Adding total fully vaccinated people for the period between the 5th of March and 15th of March 2021\n",
        "# Formatting the total number\n",
        "peopleFullyVaccinatedUAE = (uaeData[\"people_fully_vaccinated\"].sum())\n",
        "print(\"Fully vacinated people in United Arab Emirates between 5th of March and 15th of March: \", format(peopleFullyVaccinatedUAE, \",.0f\"))"
      ],
      "metadata": {
        "colab": {
          "base_uri": "https://localhost:8080/"
        },
        "id": "4Flaz6frCVFC",
        "outputId": "673b7cc3-28e5-4ec5-e6de-1145894a300e"
      },
      "execution_count": null,
      "outputs": [
        {
          "output_type": "stream",
          "name": "stdout",
          "text": [
            "Fully vacinated people in United Arab Emirates between 5th of March and 15th of March:  0\n"
          ]
        }
      ]
    },
    {
      "cell_type": "markdown",
      "source": [
        "## Performing data visualisation with matplotlib"
      ],
      "metadata": {
        "id": "O14ZSYZGFfnH"
      }
    },
    {
      "cell_type": "code",
      "source": [
        "# Set bar chart\n",
        "fig = plt.figure()\n",
        "ax = fig.add_axes([0,0,1.5,1.5])\n",
        "\n",
        "# Insert data\n",
        "country = [\"United Arab Emirates\", \"Bulgaria\", \"Romania\", \"United Kingdom\", \"Brazil\"]\n",
        "peopleFullyVaccinated = [peopleFullyVaccinatedUAE, peopleFullyVaccinatedBulgaria, peopleFullyVaccinatedRomania, peopleFullyVaccinatedUK, peopleFullyVaccinatedBrazil]\n",
        "\n",
        "# Display bar chart\n",
        "ax.bar(country,peopleFullyVaccinated, color=\"tab:orange\")\n",
        "plt.show()"
      ],
      "metadata": {
        "colab": {
          "base_uri": "https://localhost:8080/",
          "height": 491
        },
        "id": "W-KfGDJ-FRMP",
        "outputId": "78e80582-8960-45b6-a2bb-db850fecd031"
      },
      "execution_count": null,
      "outputs": [
        {
          "output_type": "display_data",
          "data": {
            "image/png": "[encoded data removed]",
            "text/plain": [
              "<Figure size 432x288 with 1 Axes>"
            ]
          },
          "metadata": {
            "needs_background": "light"
          }
        }
      ]
    },
    {
      "cell_type": "markdown",
      "source": [
        "# **Percentage of population vaccinated**"
      ],
      "metadata": {
        "id": "2m_eQXxnhIfK"
      }
    },
    {
      "cell_type": "markdown",
      "source": [
        "## To find what percentage of the population of the above countries was vaccineted, I need to know what was the total population of these countries at the given dates.\n"
      ],
      "metadata": {
        "id": "F6ym8oJshdDH"
      }
    },
    {
      "cell_type": "code",
      "source": [
        "# Total population of each country for 2021 according to worldpopulationreview.com\n",
        "totalPopulationUAE = 9990000\n",
        "totalPopulationBulgaria = 6896663\n",
        "totalPopulationRomania = 19127774\n",
        "totalPopulationUK = 67610000\n",
        "totalPopulationBrazil = 212610000\n",
        "print(\"The total population of the United Arab Emirates in 2021 was :\", format(totalPopulationUAE, \",.0f\"))\n",
        "print(\"The total population of Bulgaria in 2021 was :\", format(totalPopulationBulgaria, \",.0f\"))\n",
        "print(\"The total population of Romania in 2021 was :\", format(totalPopulationRomania, \",.0f\"))\n",
        "print(\"The total population of the United Kingdom in 2021 was :\", format(totalPopulationUK, \",.0f\"))\n",
        "print(\"The total population of Brazil in 2021 was :\", format(totalPopulationBrazil, \",.0f\"))"
      ],
      "metadata": {
        "colab": {
          "base_uri": "https://localhost:8080/"
        },
        "id": "MZttrQkqhIFC",
        "outputId": "639dd071-b489-4c6d-906d-2c111750f6f6"
      },
      "execution_count": null,
      "outputs": [
        {
          "output_type": "stream",
          "name": "stdout",
          "text": [
            "The total population of the United Arab Emirates in 2021 was : 9,990,000\n",
            "The total population of Bulgaria in 2021 was : 6,896,663\n",
            "The total population of Romania in 2021 was : 19,127,774\n",
            "The total population of the United Kingdom in 2021 was : 67,610,000\n",
            "The total population of Brazil in 2021 was : 212,610,000\n"
          ]
        }
      ]
    },
    {
      "cell_type": "markdown",
      "source": [
        "## Percentage of population vaccinated between 5th of March and 15th of March in United Arab Emirates"
      ],
      "metadata": {
        "id": "888A89ftnMI3"
      }
    },
    {
      "cell_type": "code",
      "source": [
        "# Formula for calculating the percentage vaccinated\n",
        "percentVaccinatedUAE = (peopleFullyVaccinatedUAE / totalPopulationUAE) * 100\n",
        "print(\"The proportion of population vaccinated between 5th of March and 15th of March in United Arab Emirates was :\", percentVaccinatedUAE,\"%\")"
      ],
      "metadata": {
        "colab": {
          "base_uri": "https://localhost:8080/"
        },
        "id": "tFsnhItNj-7r",
        "outputId": "4c982107-dca4-4df8-f8ad-c6bf67d62803"
      },
      "execution_count": null,
      "outputs": [
        {
          "output_type": "stream",
          "name": "stdout",
          "text": [
            "The proportion of population vaccinated between 5th of March and 15th of March in United Arab Emirates was : 0.0 %\n"
          ]
        }
      ]
    },
    {
      "cell_type": "markdown",
      "source": [
        "## Percentage of population vaccinated between 5th of March and 15th of March in Bulgaria\n"
      ],
      "metadata": {
        "id": "hvAYuI8jnW5l"
      }
    },
    {
      "cell_type": "code",
      "source": [
        "# Formula for calculating the percentage vaccinated\n",
        "percentVaccinatedBulgaria = (peopleFullyVaccinatedBulgaria / totalPopulationBulgaria) * 100\n",
        "print(\"The proportion of population vaccinated between 5th of March and 15th of March in Bulgaria was :\", format(percentVaccinatedBulgaria, \",.2f\"),\"%\")"
      ],
      "metadata": {
        "colab": {
          "base_uri": "https://localhost:8080/"
        },
        "id": "DOZq7LKpnXsm",
        "outputId": "d8c17e89-c101-4788-c804-29dd35a59a8b"
      },
      "execution_count": null,
      "outputs": [
        {
          "output_type": "stream",
          "name": "stdout",
          "text": [
            "The proportion of population vaccinated between 5th of March and 15th of March in Bulgaria was : 6.04 %\n"
          ]
        }
      ]
    },
    {
      "cell_type": "markdown",
      "source": [
        "## Percentage of population vaccinated between 5th of March and 15th of March in Romania"
      ],
      "metadata": {
        "id": "FbL076yIofpy"
      }
    },
    {
      "cell_type": "code",
      "source": [
        "# Formula for calculating the percentage vaccinated\n",
        "percentVaccinatedRomania = (peopleFullyVaccinatedRomania / totalPopulationRomania) * 100\n",
        "print(\"The proportion of population vaccinated between 5th of March and 15th of March in Romania was :\", format(percentVaccinatedRomania, \",.2f\"),\"%\")"
      ],
      "metadata": {
        "colab": {
          "base_uri": "https://localhost:8080/"
        },
        "id": "WX2huG6dohOk",
        "outputId": "7bf223e5-0785-466a-d601-81aab81242b8"
      },
      "execution_count": null,
      "outputs": [
        {
          "output_type": "stream",
          "name": "stdout",
          "text": [
            "The proportion of population vaccinated between 5th of March and 15th of March in Romania was : 24.13 %\n"
          ]
        }
      ]
    },
    {
      "cell_type": "markdown",
      "source": [
        "## Percentage of population vaccinated between 5th of March and 15th of March in the United Kingdom"
      ],
      "metadata": {
        "id": "OQFJ53W_pec6"
      }
    },
    {
      "cell_type": "code",
      "source": [
        "# Formula for calculating the percentage vaccinated\n",
        "percentVaccinatedUK = (peopleFullyVaccinatedUK / totalPopulationUK) * 100\n",
        "print(\"The proportion of population vaccinated between 5th of March and 15th of March in the United Kingdom was :\", format(percentVaccinatedUK, \",.2f\"),\"%\")"
      ],
      "metadata": {
        "colab": {
          "base_uri": "https://localhost:8080/"
        },
        "id": "Jd_TDsT5qab7",
        "outputId": "1cfd5be1-c9d4-4bec-fbb0-36da2eaabcfb"
      },
      "execution_count": null,
      "outputs": [
        {
          "output_type": "stream",
          "name": "stdout",
          "text": [
            "The proportion of population vaccinated between 5th of March and 15th of March in the United Kingdom was : 12.70 %\n"
          ]
        }
      ]
    },
    {
      "cell_type": "markdown",
      "source": [
        "## Percentage of population vaccinated between 5th of March and 15th of March in Brazil"
      ],
      "metadata": {
        "id": "Oi5bnfiWqx2j"
      }
    },
    {
      "cell_type": "code",
      "source": [
        "# Formula for calculating the percentage vaccinated\n",
        "percentVaccinatedBrazil = (peopleFullyVaccinatedBrazil / totalPopulationBrazil) * 100\n",
        "print(\"The proportion of population vaccinated between 5th of March and 15th of March in Brazil was :\", format(percentVaccinatedBrazil, \",.2f\"),\"%\")"
      ],
      "metadata": {
        "colab": {
          "base_uri": "https://localhost:8080/"
        },
        "id": "wrCowM2eq0y9",
        "outputId": "d6c3efbe-eb8d-45de-be0a-5edb5dfa5b8b"
      },
      "execution_count": null,
      "outputs": [
        {
          "output_type": "stream",
          "name": "stdout",
          "text": [
            "The proportion of population vaccinated between 5th of March and 15th of March in Brazil was : 4.90 %\n"
          ]
        }
      ]
    },
    {
      "cell_type": "markdown",
      "source": [
        "## Data visualisation representing the percentage of population vaccinated between 5th and 15th of March of each country"
      ],
      "metadata": {
        "id": "hFJq-q8au7MI"
      }
    },
    {
      "cell_type": "code",
      "source": [
        "# Set bar chart\n",
        "fig = plt.figure()\n",
        "ax = fig.add_axes([0,0,1.5,1.5])\n",
        "\n",
        "# Insert data\n",
        "country = [\"United Arab Emirates\", \"Brazil\", \"Bulgaria\", \"United Kingdom\", \"Romania\"]\n",
        "peopleFullyVaccinated = [percentVaccinatedUAE, percentVaccinatedBrazil, percentVaccinatedBulgaria, percentVaccinatedUK, percentVaccinatedRomania]\n",
        "\n",
        "# Display bar chart\n",
        "ax.bar(country,peopleFullyVaccinated, color=\"lightcoral\")\n",
        "plt.show()"
      ],
      "metadata": {
        "colab": {
          "base_uri": "https://localhost:8080/",
          "height": 480
        },
        "id": "4y9_0ierrTFM",
        "outputId": "098b90fb-9ba1-4977-97a1-35c5fcb6c4fc"
      },
      "execution_count": null,
      "outputs": [
        {
          "output_type": "display_data",
          "data": {
            "image/png": "[encoded data removed]",
            "text/plain": [
              "<Figure size 432x288 with 1 Axes>"
            ]
          },
          "metadata": {
            "needs_background": "light"
          }
        }
      ]
    },
    {
      "cell_type": "code",
      "source": [
        "y = np.array([percentVaccinatedUAE, percentVaccinatedBrazil, percentVaccinatedBulgaria, percentVaccinatedUK, percentVaccinatedRomania])\n",
        "mylabels = [\"United Arab Emirates\", \"Brazil\", \"Bulgaria\", \"United Kingdom\", \"Romania\"]\n",
        "\n",
        "plt.pie(y, labels = mylabels)\n",
        "plt.legend(title = \"Countries\")\n",
        "plt.show() \n"
      ],
      "metadata": {
        "colab": {
          "base_uri": "https://localhost:8080/",
          "height": 247
        },
        "id": "w1Sl0U4-Mt3y",
        "outputId": "d362bf1d-4b9c-48a5-d521-17fb3bae273e"
      },
      "execution_count": null,
      "outputs": [
        {
          "output_type": "display_data",
          "data": {
            "image/png": "[encoded data removed]",
            "text/plain": [
              "<Figure size 432x288 with 1 Axes>"
            ]
          },
          "metadata": {}
        }
      ]
    }
  ]
}