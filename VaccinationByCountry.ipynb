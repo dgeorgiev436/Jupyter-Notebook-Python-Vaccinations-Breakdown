{
  "nbformat": 4,
  "nbformat_minor": 0,
  "metadata": {
    "colab": {
      "name": "VaccinationByCountry.ipynb",
      "provenance": [],
      "collapsed_sections": [],
      "authorship_tag": "ABX9TyOo0aqWioq1VKVW7zmMBWGi",
      "include_colab_link": true
    },
    "kernelspec": {
      "name": "python3",
      "display_name": "Python 3"
    },
    "language_info": {
      "name": "python"
    }
  },
  "cells": [
    {
      "cell_type": "markdown",
      "metadata": {
        "id": "view-in-github",
        "colab_type": "text"
      },
      "source": [
        "<a href=\"https://colab.research.google.com/github/dgeorgiev436/Jupyter-Notebook-Python-Vaccinations-Breakdown/blob/main/VaccinationByCountry.ipynb\" target=\"_parent\"><img src=\"https://colab.research.google.com/assets/colab-badge.svg\" alt=\"Open In Colab\"/></a>"
      ]
    },
    {
      "cell_type": "markdown",
      "source": [
        "# **How many people were vaccinated from 20th January 2021 to 3rd February 2021 in UK, US, Norway, China and Australia**"
      ],
      "metadata": {
        "id": "4X35nYjuvQYV"
      }
    },
    {
      "cell_type": "markdown",
      "source": [
        "## Importing the libraries that are going to be used for the task"
      ],
      "metadata": {
        "id": "HjiaAa7xvimN"
      }
    },
    {
      "cell_type": "code",
      "execution_count": null,
      "metadata": {
        "id": "f5dPicijlU81"
      },
      "outputs": [],
      "source": [
        "# Import pandas library which will be used for data structures and operations\n",
        "import pandas as pd\n",
        "from datetime import datetime\n",
        "# Import matplotlib.pyplot and seaborn libraries which will be used for data visualisation\n",
        "import seaborn as sns\n",
        "from matplotlib import pyplot as plt\n",
        "import numpy as np"
      ]
    },
    {
      "cell_type": "markdown",
      "source": [
        "## In the below code snippet I load the data from the excel document. Then I format the \"date\" column to a custom format where the months are represented as a single digit (1,2,3 instead of 01.02.03). Next, I created a new xlsx document with all the updated \"date\" column formatting. Lastly, the data is added to a dataframe."
      ],
      "metadata": {
        "id": "ITxqz_kAv3vw"
      }
    },
    {
      "cell_type": "code",
      "source": [
        "# Read the whole worksheet\n",
        "\n",
        "# Read the document\n",
        "data = pd.read_excel(\"VaccinationByCountryformatedData.xlsx\")\n",
        "\n",
        "# Convert the date format to a custom date format\n",
        "# I noticed that when the month is formated with a 0 in front ( for example 01,02,03), it breaks my filtering and gives me a wrong results\n",
        "data[\"date\"] = pd.to_datetime(data[\"date\"]).dt.strftime(\"%Y/%-m/%d\")\n",
        "\n",
        "# Creating new document with the new date column formatting ( the code had to be executed only once, therefore I have commented it out)\n",
        "# data.to_excel(\"VaccinationByCountryformatedData.xlsx\")\n",
        "\n",
        "# Add data to a dataframe\n",
        "df = pd.DataFrame(data)\n"
      ],
      "metadata": {
        "id": "hBqGiXADmJNW"
      },
      "execution_count": null,
      "outputs": []
    },
    {
      "cell_type": "markdown",
      "source": [
        "## Total Vaccinations for the period between the 20th of January and the 3rd of February 2021 in UK\n"
      ],
      "metadata": {
        "id": "F_5KG79R1VnJ"
      }
    },
    {
      "cell_type": "code",
      "source": [
        "# Applying filter logic in order to get people vaccinated in the UK between the 20th of January and 3rd of February 2021\n",
        "ukFilter = (data[\"country\"] == \"United Kingdom\") & (data[\"date\"] >= \"2021/1/20\") & (data[\"date\"] <= \"2021/2/03\")\n",
        "# Apply the filtered data to the data frame also known as pandas dataframe boolean filtering\n",
        "ukData = df.loc[ukFilter]\n",
        "\n",
        "# Adding total vaccinated people for the period between the 20th of January and 3rd of February 2021\n",
        "# Formatting the total number\n",
        "peopleVaccinatedUK = (format(ukData[\"people_vaccinated\"].sum(), \",.0f\"))\n",
        "print(\"Total Vaccinations for the period between the 20th of January and the 3rd of February 2021 in the UK:\", peopleVaccinatedUK)"
      ],
      "metadata": {
        "colab": {
          "base_uri": "https://localhost:8080/"
        },
        "id": "fHwHlNU5mZY4",
        "outputId": "7ee05c6f-bf80-4200-98b4-6ea0b17daf1d"
      },
      "execution_count": null,
      "outputs": [
        {
          "output_type": "stream",
          "name": "stdout",
          "text": [
            "Total Vaccinations for the period between the 20th of January and the 3rd of February 2021 in the UK: 115,341,565\n"
          ]
        }
      ]
    },
    {
      "cell_type": "markdown",
      "source": [
        "## Total Vaccinations for the period between the 20th of January and the 3rd of February 2021 in Norway"
      ],
      "metadata": {
        "id": "uNHUGuCD1mMX"
      }
    },
    {
      "cell_type": "code",
      "source": [
        "# Applying filter logic in order to get people vaccinated in Norway between the 20th of January and 3rd of February 2021\n",
        "norwayFilter = (data[\"country\"] == \"Norway\") & (data[\"date\"] >= \"2021/1/20\") & (data[\"date\"] <= \"2021/2/03\")\n",
        "# Apply the filtered data to the data frame also known as pandas dataframe boolean filtering\n",
        "norwayData = df.loc[norwayFilter]\n",
        "\n",
        "# Adding total vaccinated people for the period between the 20th of January and 3rd of February 2021\n",
        "# Formatting the total number\n",
        "peopleVaccinatedNorway = (format(norwayData[\"people_vaccinated\"].sum(), \",.0f\"))\n",
        "print(\"Total Vaccinations for the period between the 20th of January and the 3rd of February 2021 in Norway:\", peopleVaccinatedNorway)"
      ],
      "metadata": {
        "colab": {
          "base_uri": "https://localhost:8080/"
        },
        "id": "fmjZZqqo1dl6",
        "outputId": "7ec94db6-e140-496d-ce22-b9e10cc09026"
      },
      "execution_count": null,
      "outputs": [
        {
          "output_type": "stream",
          "name": "stdout",
          "text": [
            "Total Vaccinations for the period between the 20th of January and the 3rd of February 2021 in Norway: 1,432,386\n"
          ]
        }
      ]
    },
    {
      "cell_type": "markdown",
      "source": [
        "## Total Vaccinations for the period between the 20th of January and the 3rd of February 2021 in US"
      ],
      "metadata": {
        "id": "J_06r-ub_Qwc"
      }
    },
    {
      "cell_type": "code",
      "source": [
        "# Applying filter logic in order to get people vaccinated in United States between the 20th of January and 3rd of February 2021\n",
        "usFilter = (data[\"country\"] == \"United States\") & (data[\"date\"] >= \"2021/1/20\") & (data[\"date\"] <= \"2021/2/03\")\n",
        "# Apply the filtered data to the data frame also known as pandas dataframe boolean filtering\n",
        "usData = df.loc[usFilter]\n",
        "\n",
        "# Adding total vaccinated people for the period between the 20th of January and 3rd of February 2021\n",
        "# Formatting the total number\n",
        "peopleVaccinatedUS = (format(usData[\"people_vaccinated\"].sum(), \",.0f\"))\n",
        "print(\"Total Vaccinations for the period between the 20th of January and the 3rd of February 2021 in the US:\", peopleVaccinatedUS)"
      ],
      "metadata": {
        "colab": {
          "base_uri": "https://localhost:8080/"
        },
        "id": "KMS3rAQp_UXl",
        "outputId": "664bc038-bc4f-474e-967e-6ee3a9c50ab4"
      },
      "execution_count": null,
      "outputs": [
        {
          "output_type": "stream",
          "name": "stdout",
          "text": [
            "Total Vaccinations for the period between the 20th of January and the 3rd of February 2021 in the US: 314,742,930\n"
          ]
        }
      ]
    },
    {
      "cell_type": "markdown",
      "source": [
        "## Total Vaccinations for the period between the 20th of January and the 3rd of February 2021 in China"
      ],
      "metadata": {
        "id": "FRgEMLvIv9nD"
      }
    },
    {
      "cell_type": "code",
      "source": [
        "# Applying filter logic in order to get people vaccinated in China between the 20th of January and 3rd of February 2021\n",
        "chinaFilter = (data[\"country\"] == \"China\") & (data[\"date\"] >= \"2021/1/20\") & (data[\"date\"] <= \"2021/2/03\")\n",
        "# Apply the filtered data to the data frame also known as pandas dataframe boolean filtering\n",
        "chinaData = df.loc[chinaFilter]\n",
        "\n",
        "# Adding total vaccinated people for the period between the 20th of January and 3rd of February 2021\n",
        "# Formatting the total number\n",
        "peopleVaccinatedChina = (format(chinaData[\"people_vaccinated\"].sum(), \",.0f\"))\n",
        "print(\"Total Vaccinations for the period between the 20th of January and the 3rd of February 2021 in China:\", peopleVaccinatedChina)"
      ],
      "metadata": {
        "colab": {
          "base_uri": "https://localhost:8080/"
        },
        "id": "38Zzh23zwTl5",
        "outputId": "8a752dfb-230a-4aa9-9274-c729f10dd806"
      },
      "execution_count": null,
      "outputs": [
        {
          "output_type": "stream",
          "name": "stdout",
          "text": [
            "Total Vaccinations for the period between the 20th of January and the 3rd of February 2021 in China: 0\n"
          ]
        }
      ]
    },
    {
      "cell_type": "markdown",
      "source": [
        "## Total Vaccinations for the period between the 20th of January and the 3rd of February 2021 in Australia"
      ],
      "metadata": {
        "id": "Dw2VINW7wqog"
      }
    },
    {
      "cell_type": "code",
      "source": [
        "# Applying filter logic in order to get people vaccinated in Australia between the 20th of January and 3rd of February 2021\n",
        "australiaFilter = (data[\"country\"] == \"Australia\") & (data[\"date\"] >= \"2021/1/20\") & (data[\"date\"] <= \"2021/2/03\")\n",
        "# Apply the filtered data to the data frame also known as pandas dataframe boolean filtering\n",
        "australiaData = df.loc[australiaFilter]\n",
        "\n",
        "# Adding total vaccinated people for the period between the 20th of January and 3rd of February 2021\n",
        "# Formatting the total number\n",
        "peopleVaccinatedAustralia = (format(australiaData[\"people_vaccinated\"].sum(), \",.0f\"))\n",
        "print(\"Total Vaccinations for the period between the 20th of January and the 3rd of February 2021 in Australia:\", peopleVaccinatedAustralia)"
      ],
      "metadata": {
        "colab": {
          "base_uri": "https://localhost:8080/"
        },
        "id": "6o7_Bq74wtlH",
        "outputId": "0828e0ff-35f7-4650-93cd-9d1b0de1db73"
      },
      "execution_count": null,
      "outputs": [
        {
          "output_type": "stream",
          "name": "stdout",
          "text": [
            "Total Vaccinations for the period between the 20th of January and the 3rd of February 2021 in Australia: 0\n"
          ]
        }
      ]
    },
    {
      "cell_type": "markdown",
      "source": [
        "### Performing data visualisation with the help of matplotlib"
      ],
      "metadata": {
        "id": "3x5FjPoAyttl"
      }
    },
    {
      "cell_type": "code",
      "source": [
        "# Set bar chart\n",
        "fig = plt.figure()\n",
        "ax = fig.add_axes([0,0,1,1])\n",
        "\n",
        "# Insert data\n",
        "country = [\"Australia\", \"China\", \"Norway\", \"United States\", \"United Kingdom\"]\n",
        "peopleVaccinated = [peopleVaccinatedAustralia, peopleVaccinatedChina, peopleVaccinatedNorway, peopleVaccinatedUS, peopleVaccinatedUK]\n",
        "\n",
        "# Display bar chart\n",
        "ax.bar(country,peopleVaccinated, color=\"y\")\n",
        "plt.show()"
      ],
      "metadata": {
        "colab": {
          "base_uri": "https://localhost:8080/",
          "height": 540
        },
        "id": "HZG_zsHirv1V",
        "outputId": "da2c3e47-32d5-400b-e467-8ef883e62bfe"
      },
      "execution_count": null,
      "outputs": [
        {
          "output_type": "display_data",
          "data": {
            "image/png": "[encoded data removed]",
            "text/plain": [
              "<Figure size 640x480 with 1 Axes>"
            ]
          },
          "metadata": {}
        }
      ]
    }
  ]
}